{
 "cells": [
  {
   "cell_type": "code",
   "execution_count": 4,
   "id": "c62eece9",
   "metadata": {},
   "outputs": [],
   "source": [
    "import pandas as pd\n",
    "\n",
    "pd.DataFrame([['n3m10A.txt', 7483],\n",
    "['n3m10B.txt',    1277],\n",
    "['n3m10C.txt' ,  2088],\n",
    "['n3m10D.txt' ,   322],\n",
    "['n3m10E.txt' ,   3343],\n",
    "['n3m20A.txt' ,   8280],\n",
    "['n3m20B.txt',    1820],\n",
    "['n3m20C.txt',    855],\n",
    "['n3m20D.txt',    4357],\n",
    "['n3m20E.txt',    3798],\n",
    "['n3m40A.txt',    112],\n",
    "['n3m40B.txt',    880],\n",
    "['n3m40C.txt',    1962],\n",
    "['n3m40D.txt',    263],\n",
    "['n3m40E.txt',    1192],\n",
    "['n5m50A.txt',    0],\n",
    "['n5m50B.txt',    0],\n",
    "['n5m50C.txt',    0],\n",
    "['n5m50D.txt',    0],\n",
    "['n5m50E.txt',    0]], columns=['instancias', 'valor_otimo']).to_csv('instancias_opt.csv', sep=',')"
   ]
  },
  {
   "cell_type": "code",
   "execution_count": 5,
   "id": "d1079c30",
   "metadata": {},
   "outputs": [
    {
     "name": "stdout",
     "output_type": "stream",
     "text": [
      "7483\n",
      "1277\n",
      "2088\n",
      "322\n",
      "3343\n",
      "8280\n",
      "1820\n",
      "855\n",
      "4357\n",
      "3798\n",
      "112\n",
      "880\n",
      "1962\n",
      "263\n",
      "1192\n",
      "0\n",
      "0\n",
      "0\n",
      "0\n",
      "0\n"
     ]
    },
    {
     "name": "stderr",
     "output_type": "stream",
     "text": [
      "C:\\Users\\davig\\AppData\\Local\\Temp\\ipykernel_17864\\2989374015.py:5: FutureWarning: Calling int on a single element Series is deprecated and will raise a TypeError in the future. Use int(ser.iloc[0]) instead\n",
      "  print(int(pd_otimos.loc[pd_otimos['instancias'] == n, 'valor_otimo']))\n"
     ]
    }
   ],
   "source": [
    "\n",
    "import pandas as pd\n",
    "pd_otimos = pd.read_csv('instancias_opt.csv', sep=',').drop(columns=['Unnamed: 0'])\n",
    "pd_otimos\n",
    "for n in pd_otimos['instancias']:\n",
    "    print(int(pd_otimos.loc[pd_otimos['instancias'] == n, 'valor_otimo']))"
   ]
  },
  {
   "cell_type": "code",
   "execution_count": null,
   "id": "ccfa1f12",
   "metadata": {},
   "outputs": [],
   "source": []
  }
 ],
 "metadata": {
  "kernelspec": {
   "display_name": "Python 3",
   "language": "python",
   "name": "python3"
  },
  "language_info": {
   "codemirror_mode": {
    "name": "ipython",
    "version": 3
   },
   "file_extension": ".py",
   "mimetype": "text/x-python",
   "name": "python",
   "nbconvert_exporter": "python",
   "pygments_lexer": "ipython3",
   "version": "3.10.11"
  }
 },
 "nbformat": 4,
 "nbformat_minor": 5
}
